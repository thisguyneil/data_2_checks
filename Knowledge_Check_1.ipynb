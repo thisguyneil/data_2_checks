{
 "cells": [
  {
   "cell_type": "code",
   "execution_count": 2,
   "id": "65a3d09c",
   "metadata": {},
   "outputs": [],
   "source": [
    "# Here we will import our require packages\n",
    "import pandas as pd\n",
    "import requests \n",
    "import json\n"
   ]
  },
  {
   "cell_type": "markdown",
   "id": "ad16ca88",
   "metadata": {},
   "source": [
    "# **Pull in data from an API**\n",
    "\n",
    "## I will to use the NASA NeoW API for asteroids that were near Earth on a specific date\n",
    "\n",
    "### The description for this API is \"NeoWs (Near Earth Object Web Service) is a RESTful web service for near earth Asteroid information. With NeoWs a user can: search for Asteroids based on their closest approach date to Earth, lookup a specific Asteroid with its NASA JPL small body id, as well as browse the overall data-set.\" \n",
    "### More information for this API can be located at https://api.nasa.gov/"
   ]
  },
  {
   "cell_type": "code",
   "execution_count": 3,
   "id": "bdef85b6",
   "metadata": {},
   "outputs": [
    {
     "name": "stdout",
     "output_type": "stream",
     "text": [
      "[{'links': {'self': 'http://api.nasa.gov/neo/rest/v1/neo/2488453?api_key=AuNs2AIkSaYsgVnLG7Xmzim3xeYSMflp8DesCe17'}, 'id': '2488453', 'neo_reference_id': '2488453', 'name': '488453 (1994 XD)', 'nasa_jpl_url': 'http://ssd.jpl.nasa.gov/sbdb.cgi?sstr=2488453', 'absolute_magnitude_h': 19.28, 'estimated_diameter': {'kilometers': {'estimated_diameter_min': 0.3703010782, 'estimated_diameter_max': 0.828018383}, 'meters': {'estimated_diameter_min': 370.3010782229, 'estimated_diameter_max': 828.0183830478}, 'miles': {'estimated_diameter_min': 0.2300943513, 'estimated_diameter_max': 0.5145066107}, 'feet': {'estimated_diameter_min': 1214.8985894767, 'estimated_diameter_max': 2716.5958318385}}, 'is_potentially_hazardous_asteroid': True, 'close_approach_data': [{'close_approach_date': '2023-06-12', 'close_approach_date_full': '2023-Jun-12 00:53', 'epoch_date_close_approach': 1686531180000, 'relative_velocity': {'kilometers_per_second': '21.4724656464', 'kilometers_per_hour': '77300.876327071', 'miles_per_hour': '48031.7584044514'}, 'miss_distance': {'astronomical': '0.0211423197', 'lunar': '8.2243623633', 'kilometers': '3162845.993979039', 'miles': '1965301.3684231782'}, 'orbiting_body': 'Earth'}], 'is_sentry_object': False}, {'links': {'self': 'http://api.nasa.gov/neo/rest/v1/neo/2513125?api_key=AuNs2AIkSaYsgVnLG7Xmzim3xeYSMflp8DesCe17'}, 'id': '2513125', 'neo_reference_id': '2513125', 'name': '513125 (1997 GC32)', 'nasa_jpl_url': 'http://ssd.jpl.nasa.gov/sbdb.cgi?sstr=2513125', 'absolute_magnitude_h': 18.35, 'estimated_diameter': {'kilometers': {'estimated_diameter_min': 0.5682703234, 'estimated_diameter_max': 1.2706910727}, 'meters': {'estimated_diameter_min': 568.2703233897, 'estimated_diameter_max': 1270.6910726951}, 'miles': {'estimated_diameter_min': 0.3531066991, 'estimated_diameter_max': 0.7895705825}, 'feet': {'estimated_diameter_min': 1864.4040077898, 'estimated_diameter_max': 4168.9340989411}}, 'is_potentially_hazardous_asteroid': False, 'close_approach_data': [{'close_approach_date': '2023-06-12', 'close_approach_date_full': '2023-Jun-12 18:41', 'epoch_date_close_approach': 1686595260000, 'relative_velocity': {'kilometers_per_second': '14.5630963642', 'kilometers_per_hour': '52427.146910976', 'miles_per_hour': '32576.1902569895'}, 'miss_distance': {'astronomical': '0.1572439593', 'lunar': '61.1679001677', 'kilometers': '23523361.381646691', 'miles': '14616738.9753626958'}, 'orbiting_body': 'Earth'}], 'is_sentry_object': False}, {'links': {'self': 'http://api.nasa.gov/neo/rest/v1/neo/2523661?api_key=AuNs2AIkSaYsgVnLG7Xmzim3xeYSMflp8DesCe17'}, 'id': '2523661', 'neo_reference_id': '2523661', 'name': '523661 (2012 LF11)', 'nasa_jpl_url': 'http://ssd.jpl.nasa.gov/sbdb.cgi?sstr=2523661', 'absolute_magnitude_h': 20.79, 'estimated_diameter': {'kilometers': {'estimated_diameter_min': 0.1847374636, 'estimated_diameter_max': 0.4130855266}, 'meters': {'estimated_diameter_min': 184.7374636151, 'estimated_diameter_max': 413.0855266343}, 'miles': {'estimated_diameter_min': 0.1147905025, 'estimated_diameter_max': 0.2566793668}, 'feet': {'estimated_diameter_min': 606.094060127, 'estimated_diameter_max': 1355.2675192028}}, 'is_potentially_hazardous_asteroid': False, 'close_approach_data': [{'close_approach_date': '2023-06-12', 'close_approach_date_full': '2023-Jun-12 14:34', 'epoch_date_close_approach': 1686580440000, 'relative_velocity': {'kilometers_per_second': '20.9636621523', 'kilometers_per_hour': '75469.1837483776', 'miles_per_hour': '46893.6158685405'}, 'miss_distance': {'astronomical': '0.2364403391', 'lunar': '91.9752919099', 'kilometers': '35370971.111437717', 'miles': '21978502.2919538146'}, 'orbiting_body': 'Earth'}], 'is_sentry_object': False}, {'links': {'self': 'http://api.nasa.gov/neo/rest/v1/neo/3749071?api_key=AuNs2AIkSaYsgVnLG7Xmzim3xeYSMflp8DesCe17'}, 'id': '3749071', 'neo_reference_id': '3749071', 'name': '(2016 GY2)', 'nasa_jpl_url': 'http://ssd.jpl.nasa.gov/sbdb.cgi?sstr=3749071', 'absolute_magnitude_h': 26.1, 'estimated_diameter': {'kilometers': {'estimated_diameter_min': 0.0160160338, 'estimated_diameter_max': 0.0358129403}, 'meters': {'estimated_diameter_min': 16.0160337979, 'estimated_diameter_max': 35.8129403019}, 'miles': {'estimated_diameter_min': 0.0099518989, 'estimated_diameter_max': 0.0222531225}, 'feet': {'estimated_diameter_min': 52.5460443254, 'estimated_diameter_max': 117.4965270602}}, 'is_potentially_hazardous_asteroid': False, 'close_approach_data': [{'close_approach_date': '2023-06-12', 'close_approach_date_full': '2023-Jun-12 12:48', 'epoch_date_close_approach': 1686574080000, 'relative_velocity': {'kilometers_per_second': '8.5940523417', 'kilometers_per_hour': '30938.5884300753', 'miles_per_hour': '19224.0356831209'}, 'miss_distance': {'astronomical': '0.3278982457', 'lunar': '127.5524175773', 'kilometers': '49052879.133456659', 'miles': '30480045.7150295342'}, 'orbiting_body': 'Earth'}], 'is_sentry_object': False}, {'links': {'self': 'http://api.nasa.gov/neo/rest/v1/neo/3781045?api_key=AuNs2AIkSaYsgVnLG7Xmzim3xeYSMflp8DesCe17'}, 'id': '3781045', 'neo_reference_id': '3781045', 'name': '(2017 QM18)', 'nasa_jpl_url': 'http://ssd.jpl.nasa.gov/sbdb.cgi?sstr=3781045', 'absolute_magnitude_h': 18.6, 'estimated_diameter': {'kilometers': {'estimated_diameter_min': 0.5064714588, 'estimated_diameter_max': 1.1325046106}, 'meters': {'estimated_diameter_min': 506.4714588346, 'estimated_diameter_max': 1132.5046106177}, 'miles': {'estimated_diameter_min': 0.3147066768, 'estimated_diameter_max': 0.7037055224}, 'feet': {'estimated_diameter_min': 1661.651821003, 'estimated_diameter_max': 3715.566426699}}, 'is_potentially_hazardous_asteroid': False, 'close_approach_data': [{'close_approach_date': '2023-06-12', 'close_approach_date_full': '2023-Jun-12 13:47', 'epoch_date_close_approach': 1686577620000, 'relative_velocity': {'kilometers_per_second': '19.062919957', 'kilometers_per_hour': '68626.5118453436', 'miles_per_hour': '42641.8456519026'}, 'miss_distance': {'astronomical': '0.1453875353', 'lunar': '56.5557512317', 'kilometers': '21749665.605429811', 'miles': '13514615.5261649518'}, 'orbiting_body': 'Earth'}], 'is_sentry_object': False}, {'links': {'self': 'http://api.nasa.gov/neo/rest/v1/neo/3829424?api_key=AuNs2AIkSaYsgVnLG7Xmzim3xeYSMflp8DesCe17'}, 'id': '3829424', 'neo_reference_id': '3829424', 'name': '(2018 RO5)', 'nasa_jpl_url': 'http://ssd.jpl.nasa.gov/sbdb.cgi?sstr=3829424', 'absolute_magnitude_h': 25.6, 'estimated_diameter': {'kilometers': {'estimated_diameter_min': 0.0201629919, 'estimated_diameter_max': 0.0450858206}, 'meters': {'estimated_diameter_min': 20.1629919443, 'estimated_diameter_max': 45.0858206172}, 'miles': {'estimated_diameter_min': 0.0125286985, 'estimated_diameter_max': 0.0280150214}, 'feet': {'estimated_diameter_min': 66.1515504905, 'estimated_diameter_max': 147.9193637137}}, 'is_potentially_hazardous_asteroid': False, 'close_approach_data': [{'close_approach_date': '2023-06-12', 'close_approach_date_full': '2023-Jun-12 12:37', 'epoch_date_close_approach': 1686573420000, 'relative_velocity': {'kilometers_per_second': '8.1039301384', 'kilometers_per_hour': '29174.1484984165', 'miles_per_hour': '18127.6813266966'}, 'miss_distance': {'astronomical': '0.2478538962', 'lunar': '96.4151656218', 'kilometers': '37078414.942721094', 'miles': '23039458.6915113372'}, 'orbiting_body': 'Earth'}], 'is_sentry_object': False}, {'links': {'self': 'http://api.nasa.gov/neo/rest/v1/neo/3836177?api_key=AuNs2AIkSaYsgVnLG7Xmzim3xeYSMflp8DesCe17'}, 'id': '3836177', 'neo_reference_id': '3836177', 'name': '(2018 VZ6)', 'nasa_jpl_url': 'http://ssd.jpl.nasa.gov/sbdb.cgi?sstr=3836177', 'absolute_magnitude_h': 25.85, 'estimated_diameter': {'kilometers': {'estimated_diameter_min': 0.0179702855, 'estimated_diameter_max': 0.0401827799}, 'meters': {'estimated_diameter_min': 17.9702854859, 'estimated_diameter_max': 40.1827799216}, 'miles': {'estimated_diameter_min': 0.0111662143, 'estimated_diameter_max': 0.0249684141}, 'feet': {'estimated_diameter_min': 58.9576314336, 'estimated_diameter_max': 131.833271678}}, 'is_potentially_hazardous_asteroid': False, 'close_approach_data': [{'close_approach_date': '2023-06-12', 'close_approach_date_full': '2023-Jun-12 14:08', 'epoch_date_close_approach': 1686578880000, 'relative_velocity': {'kilometers_per_second': '14.9797919825', 'kilometers_per_hour': '53927.2511368924', 'miles_per_hour': '33508.2966855874'}, 'miss_distance': {'astronomical': '0.1870880224', 'lunar': '72.7772407136', 'kilometers': '27987969.653552288', 'miles': '17390917.9151380544'}, 'orbiting_body': 'Earth'}], 'is_sentry_object': False}, {'links': {'self': 'http://api.nasa.gov/neo/rest/v1/neo/54213628?api_key=AuNs2AIkSaYsgVnLG7Xmzim3xeYSMflp8DesCe17'}, 'id': '54213628', 'neo_reference_id': '54213628', 'name': '(2021 UQ4)', 'nasa_jpl_url': 'http://ssd.jpl.nasa.gov/sbdb.cgi?sstr=54213628', 'absolute_magnitude_h': 24.3, 'estimated_diameter': {'kilometers': {'estimated_diameter_min': 0.0366906138, 'estimated_diameter_max': 0.0820427065}, 'meters': {'estimated_diameter_min': 36.6906137531, 'estimated_diameter_max': 82.0427064882}, 'miles': {'estimated_diameter_min': 0.0227984834, 'estimated_diameter_max': 0.0509789586}, 'feet': {'estimated_diameter_min': 120.3760332259, 'estimated_diameter_max': 269.1689931548}}, 'is_potentially_hazardous_asteroid': False, 'close_approach_data': [{'close_approach_date': '2023-06-12', 'close_approach_date_full': '2023-Jun-12 16:32', 'epoch_date_close_approach': 1686587520000, 'relative_velocity': {'kilometers_per_second': '13.8892173504', 'kilometers_per_hour': '50001.1824613543', 'miles_per_hour': '31068.7902910565'}, 'miss_distance': {'astronomical': '0.3760853894', 'lunar': '146.2972164766', 'kilometers': '56261573.192360578', 'miles': '34959320.4965008564'}, 'orbiting_body': 'Earth'}], 'is_sentry_object': False}, {'links': {'self': 'http://api.nasa.gov/neo/rest/v1/neo/54317887?api_key=AuNs2AIkSaYsgVnLG7Xmzim3xeYSMflp8DesCe17'}, 'id': '54317887', 'neo_reference_id': '54317887', 'name': '(2022 UO4)', 'nasa_jpl_url': 'http://ssd.jpl.nasa.gov/sbdb.cgi?sstr=54317887', 'absolute_magnitude_h': 25.23, 'estimated_diameter': {'kilometers': {'estimated_diameter_min': 0.0239086457, 'estimated_diameter_max': 0.0534613571}, 'meters': {'estimated_diameter_min': 23.9086457171, 'estimated_diameter_max': 53.4613570733}, 'miles': {'estimated_diameter_min': 0.0148561391, 'estimated_diameter_max': 0.0332193369}, 'feet': {'estimated_diameter_min': 78.4404412144, 'estimated_diameter_max': 175.3981587404}}, 'is_potentially_hazardous_asteroid': False, 'close_approach_data': [{'close_approach_date': '2023-06-12', 'close_approach_date_full': '2023-Jun-12 00:18', 'epoch_date_close_approach': 1686529080000, 'relative_velocity': {'kilometers_per_second': '10.2829288167', 'kilometers_per_hour': '37018.5437402266', 'miles_per_hour': '23001.8834701424'}, 'miss_distance': {'astronomical': '0.312763427', 'lunar': '121.664973103', 'kilometers': '46788742.49310049', 'miles': '29073176.444107162'}, 'orbiting_body': 'Earth'}], 'is_sentry_object': False}, {'links': {'self': 'http://api.nasa.gov/neo/rest/v1/neo/54341484?api_key=AuNs2AIkSaYsgVnLG7Xmzim3xeYSMflp8DesCe17'}, 'id': '54341484', 'neo_reference_id': '54341484', 'name': '(2023 CN1)', 'nasa_jpl_url': 'http://ssd.jpl.nasa.gov/sbdb.cgi?sstr=54341484', 'absolute_magnitude_h': 26.23, 'estimated_diameter': {'kilometers': {'estimated_diameter_min': 0.0150853356, 'estimated_diameter_max': 0.0337318359}, 'meters': {'estimated_diameter_min': 15.0853356118, 'estimated_diameter_max': 33.7318358913}, 'miles': {'estimated_diameter_min': 0.0093735901, 'estimated_diameter_max': 0.0209599846}, 'feet': {'estimated_diameter_min': 49.4925724885, 'estimated_diameter_max': 110.6687564656}}, 'is_potentially_hazardous_asteroid': False, 'close_approach_data': [{'close_approach_date': '2023-06-12', 'close_approach_date_full': '2023-Jun-12 06:22', 'epoch_date_close_approach': 1686550920000, 'relative_velocity': {'kilometers_per_second': '7.8301903025', 'kilometers_per_hour': '28188.6850889043', 'miles_per_hour': '17515.3526876028'}, 'miss_distance': {'astronomical': '0.3517107601', 'lunar': '136.8154856789', 'kilometers': '52615180.567040987', 'miles': '32693557.1839681406'}, 'orbiting_body': 'Earth'}], 'is_sentry_object': False}, {'links': {'self': 'http://api.nasa.gov/neo/rest/v1/neo/2620102?api_key=AuNs2AIkSaYsgVnLG7Xmzim3xeYSMflp8DesCe17'}, 'id': '2620102', 'neo_reference_id': '2620102', 'name': '620102 (2017 QM18)', 'nasa_jpl_url': 'http://ssd.jpl.nasa.gov/sbdb.cgi?sstr=2620102', 'absolute_magnitude_h': 18.59, 'estimated_diameter': {'kilometers': {'estimated_diameter_min': 0.5088092249, 'estimated_diameter_max': 1.1377320144}, 'meters': {'estimated_diameter_min': 508.8092248706, 'estimated_diameter_max': 1137.7320143896}, 'miles': {'estimated_diameter_min': 0.3161592969, 'estimated_diameter_max': 0.7069536795}, 'feet': {'estimated_diameter_min': 1669.3216573245, 'estimated_diameter_max': 3732.7167020901}}, 'is_potentially_hazardous_asteroid': False, 'close_approach_data': [{'close_approach_date': '2023-06-12', 'close_approach_date_full': '2023-Jun-12 13:47', 'epoch_date_close_approach': 1686577620000, 'relative_velocity': {'kilometers_per_second': '19.0629203268', 'kilometers_per_hour': '68626.5131765142', 'miles_per_hour': '42641.8464790402'}, 'miss_distance': {'astronomical': '0.1453875305', 'lunar': '56.5557493645', 'kilometers': '21749664.887360035', 'miles': '13514615.079977083'}, 'orbiting_body': 'Earth'}], 'is_sentry_object': False}, {'links': {'self': 'http://api.nasa.gov/neo/rest/v1/neo/54354510?api_key=AuNs2AIkSaYsgVnLG7Xmzim3xeYSMflp8DesCe17'}, 'id': '54354510', 'neo_reference_id': '54354510', 'name': '(2023 GA3)', 'nasa_jpl_url': 'http://ssd.jpl.nasa.gov/sbdb.cgi?sstr=54354510', 'absolute_magnitude_h': 21.62, 'estimated_diameter': {'kilometers': {'estimated_diameter_min': 0.1260535197, 'estimated_diameter_max': 0.2818642388}, 'meters': {'estimated_diameter_min': 126.0535196822, 'estimated_diameter_max': 281.8642388124}, 'miles': {'estimated_diameter_min': 0.0783260016, 'estimated_diameter_max': 0.1751422639}, 'feet': {'estimated_diameter_min': 413.5614295141, 'estimated_diameter_max': 924.7514692654}}, 'is_potentially_hazardous_asteroid': False, 'close_approach_data': [{'close_approach_date': '2023-06-12', 'close_approach_date_full': '2023-Jun-12 02:09', 'epoch_date_close_approach': 1686535740000, 'relative_velocity': {'kilometers_per_second': '11.7797558027', 'kilometers_per_hour': '42407.1208897301', 'miles_per_hour': '26350.1357550659'}, 'miss_distance': {'astronomical': '0.3069429874', 'lunar': '119.4008220986', 'kilometers': '45918017.126476838', 'miles': '28532132.7898148444'}, 'orbiting_body': 'Earth'}], 'is_sentry_object': False}, {'links': {'self': 'http://api.nasa.gov/neo/rest/v1/neo/54358246?api_key=AuNs2AIkSaYsgVnLG7Xmzim3xeYSMflp8DesCe17'}, 'id': '54358246', 'neo_reference_id': '54358246', 'name': '(2023 JT1)', 'nasa_jpl_url': 'http://ssd.jpl.nasa.gov/sbdb.cgi?sstr=54358246', 'absolute_magnitude_h': 23.524, 'estimated_diameter': {'kilometers': {'estimated_diameter_min': 0.0524511454, 'estimated_diameter_max': 0.1172843266}, 'meters': {'estimated_diameter_min': 52.4511454101, 'estimated_diameter_max': 117.2843266347}, 'miles': {'estimated_diameter_min': 0.0325916207, 'estimated_diameter_max': 0.0728770793}, 'feet': {'estimated_diameter_min': 172.0838159072, 'estimated_diameter_max': 384.7911101961}}, 'is_potentially_hazardous_asteroid': False, 'close_approach_data': [{'close_approach_date': '2023-06-12', 'close_approach_date_full': '2023-Jun-12 02:56', 'epoch_date_close_approach': 1686538560000, 'relative_velocity': {'kilometers_per_second': '5.9705043802', 'kilometers_per_hour': '21493.8157688946', 'miles_per_hour': '13355.4212481779'}, 'miss_distance': {'astronomical': '0.1060563762', 'lunar': '41.2559303418', 'kilometers': '15865807.979438694', 'miles': '9858555.9311102172'}, 'orbiting_body': 'Earth'}], 'is_sentry_object': False}, {'links': {'self': 'http://api.nasa.gov/neo/rest/v1/neo/54365454?api_key=AuNs2AIkSaYsgVnLG7Xmzim3xeYSMflp8DesCe17'}, 'id': '54365454', 'neo_reference_id': '54365454', 'name': '(2023 LA)', 'nasa_jpl_url': 'http://ssd.jpl.nasa.gov/sbdb.cgi?sstr=54365454', 'absolute_magnitude_h': 25.207, 'estimated_diameter': {'kilometers': {'estimated_diameter_min': 0.0241632294, 'estimated_diameter_max': 0.0540306234}, 'meters': {'estimated_diameter_min': 24.1632293778, 'estimated_diameter_max': 54.0306234448}, 'miles': {'estimated_diameter_min': 0.01501433, 'estimated_diameter_max': 0.0335730625}, 'feet': {'estimated_diameter_min': 79.275689472, 'estimated_diameter_max': 177.2658306225}}, 'is_potentially_hazardous_asteroid': False, 'close_approach_data': [{'close_approach_date': '2023-06-12', 'close_approach_date_full': '2023-Jun-12 00:35', 'epoch_date_close_approach': 1686530100000, 'relative_velocity': {'kilometers_per_second': '10.4467832792', 'kilometers_per_hour': '37608.4198049429', 'miles_per_hour': '23368.4095171324'}, 'miss_distance': {'astronomical': '0.0044098626', 'lunar': '1.7154365514', 'kilometers': '659706.051952662', 'miles': '409922.3323322556'}, 'orbiting_body': 'Earth'}], 'is_sentry_object': False}]\n"
     ]
    }
   ],
   "source": [
    "# Here I will create a variable for the URL to the API\n",
    "url = \"https://api.nasa.gov/neo/rest/v1/feed\"\n",
    "\n",
    "# Here I input my parameters for the dates I want the asteroid info from\n",
    "parameters = {\n",
    "    \"start_date\": \"2023-06-12\",\n",
    "    \"end_date\": \"2023-06-12\",\n",
    "    \"api_key\": \"AuNs2AIkSaYsgVnLG7Xmzim3xeYSMflp8DesCe17\"\n",
    "}\n",
    "\n",
    "# Here is our actual API request using the Requests library and we will store it in the response variable. \n",
    "response = requests.get(url, params=parameters)\n",
    "\n",
    "# Here we will parse our data and turn it into a python dictionary\n",
    "data = response.json()\n",
    "asteroids = data[\"near_earth_objects\"][\"2023-06-12\"]\n",
    "\n",
    "# Let's see if it all was loaded in correctly\n",
    "print(asteroids)\n",
    "\n"
   ]
  },
  {
   "cell_type": "markdown",
   "id": "a9980b8d",
   "metadata": {},
   "source": [
    "# Find and print two descriptive statistics about your data"
   ]
  },
  {
   "cell_type": "code",
   "execution_count": 4,
   "id": "c8495777",
   "metadata": {},
   "outputs": [
    {
     "name": "stdout",
     "output_type": "stream",
     "text": [
      "Total number of asteroids: 14\n"
     ]
    }
   ],
   "source": [
    "# We can use the len() function to see how many asteroids are in our json\n",
    "print(\"Total number of asteroids:\", len(asteroids))"
   ]
  },
  {
   "cell_type": "code",
   "execution_count": 5,
   "id": "fa7a10c0",
   "metadata": {},
   "outputs": [
    {
     "name": "stdout",
     "output_type": "stream",
     "text": [
      "Number of potentially hazardous asteroids: 1\n"
     ]
    }
   ],
   "source": [
    "# In our data, there is a very interesting section where each asteroid is classified as 'Potentially Hazardous'\n",
    "# We can find this by creating an expression that generates a (1) for every asteroid that's considered 'Potentially Hazardous'\n",
    "# We then use the sum to add up all the asteroids the expression found\n",
    "potentially_hazardous_count = sum(1 for asteroid in asteroids if asteroid[\"is_potentially_hazardous_asteroid\"])\n",
    "print(\"Number of potentially hazardous asteroids:\", potentially_hazardous_count)"
   ]
  },
  {
   "cell_type": "markdown",
   "id": "cacbaacc",
   "metadata": {},
   "source": [
    "# Write a query in Pandas to select a particular set of your data"
   ]
  },
  {
   "cell_type": "code",
   "execution_count": 6,
   "id": "8d1108a8",
   "metadata": {},
   "outputs": [
    {
     "name": "stdout",
     "output_type": "stream",
     "text": [
      "                                                links        id  \\\n",
      "1   {'self': 'http://api.nasa.gov/neo/rest/v1/neo/...   2513125   \n",
      "2   {'self': 'http://api.nasa.gov/neo/rest/v1/neo/...   2523661   \n",
      "3   {'self': 'http://api.nasa.gov/neo/rest/v1/neo/...   3749071   \n",
      "4   {'self': 'http://api.nasa.gov/neo/rest/v1/neo/...   3781045   \n",
      "5   {'self': 'http://api.nasa.gov/neo/rest/v1/neo/...   3829424   \n",
      "6   {'self': 'http://api.nasa.gov/neo/rest/v1/neo/...   3836177   \n",
      "7   {'self': 'http://api.nasa.gov/neo/rest/v1/neo/...  54213628   \n",
      "8   {'self': 'http://api.nasa.gov/neo/rest/v1/neo/...  54317887   \n",
      "9   {'self': 'http://api.nasa.gov/neo/rest/v1/neo/...  54341484   \n",
      "10  {'self': 'http://api.nasa.gov/neo/rest/v1/neo/...   2620102   \n",
      "11  {'self': 'http://api.nasa.gov/neo/rest/v1/neo/...  54354510   \n",
      "12  {'self': 'http://api.nasa.gov/neo/rest/v1/neo/...  54358246   \n",
      "13  {'self': 'http://api.nasa.gov/neo/rest/v1/neo/...  54365454   \n",
      "\n",
      "   neo_reference_id                name  \\\n",
      "1           2513125  513125 (1997 GC32)   \n",
      "2           2523661  523661 (2012 LF11)   \n",
      "3           3749071          (2016 GY2)   \n",
      "4           3781045         (2017 QM18)   \n",
      "5           3829424          (2018 RO5)   \n",
      "6           3836177          (2018 VZ6)   \n",
      "7          54213628          (2021 UQ4)   \n",
      "8          54317887          (2022 UO4)   \n",
      "9          54341484          (2023 CN1)   \n",
      "10          2620102  620102 (2017 QM18)   \n",
      "11         54354510          (2023 GA3)   \n",
      "12         54358246          (2023 JT1)   \n",
      "13         54365454           (2023 LA)   \n",
      "\n",
      "                                      nasa_jpl_url  absolute_magnitude_h  \\\n",
      "1    http://ssd.jpl.nasa.gov/sbdb.cgi?sstr=2513125                18.350   \n",
      "2    http://ssd.jpl.nasa.gov/sbdb.cgi?sstr=2523661                20.790   \n",
      "3    http://ssd.jpl.nasa.gov/sbdb.cgi?sstr=3749071                26.100   \n",
      "4    http://ssd.jpl.nasa.gov/sbdb.cgi?sstr=3781045                18.600   \n",
      "5    http://ssd.jpl.nasa.gov/sbdb.cgi?sstr=3829424                25.600   \n",
      "6    http://ssd.jpl.nasa.gov/sbdb.cgi?sstr=3836177                25.850   \n",
      "7   http://ssd.jpl.nasa.gov/sbdb.cgi?sstr=54213628                24.300   \n",
      "8   http://ssd.jpl.nasa.gov/sbdb.cgi?sstr=54317887                25.230   \n",
      "9   http://ssd.jpl.nasa.gov/sbdb.cgi?sstr=54341484                26.230   \n",
      "10   http://ssd.jpl.nasa.gov/sbdb.cgi?sstr=2620102                18.590   \n",
      "11  http://ssd.jpl.nasa.gov/sbdb.cgi?sstr=54354510                21.620   \n",
      "12  http://ssd.jpl.nasa.gov/sbdb.cgi?sstr=54358246                23.524   \n",
      "13  http://ssd.jpl.nasa.gov/sbdb.cgi?sstr=54365454                25.207   \n",
      "\n",
      "                                   estimated_diameter  \\\n",
      "1   {'kilometers': {'estimated_diameter_min': 0.56...   \n",
      "2   {'kilometers': {'estimated_diameter_min': 0.18...   \n",
      "3   {'kilometers': {'estimated_diameter_min': 0.01...   \n",
      "4   {'kilometers': {'estimated_diameter_min': 0.50...   \n",
      "5   {'kilometers': {'estimated_diameter_min': 0.02...   \n",
      "6   {'kilometers': {'estimated_diameter_min': 0.01...   \n",
      "7   {'kilometers': {'estimated_diameter_min': 0.03...   \n",
      "8   {'kilometers': {'estimated_diameter_min': 0.02...   \n",
      "9   {'kilometers': {'estimated_diameter_min': 0.01...   \n",
      "10  {'kilometers': {'estimated_diameter_min': 0.50...   \n",
      "11  {'kilometers': {'estimated_diameter_min': 0.12...   \n",
      "12  {'kilometers': {'estimated_diameter_min': 0.05...   \n",
      "13  {'kilometers': {'estimated_diameter_min': 0.02...   \n",
      "\n",
      "    is_potentially_hazardous_asteroid  \\\n",
      "1                               False   \n",
      "2                               False   \n",
      "3                               False   \n",
      "4                               False   \n",
      "5                               False   \n",
      "6                               False   \n",
      "7                               False   \n",
      "8                               False   \n",
      "9                               False   \n",
      "10                              False   \n",
      "11                              False   \n",
      "12                              False   \n",
      "13                              False   \n",
      "\n",
      "                                  close_approach_data  is_sentry_object  \n",
      "1   [{'close_approach_date': '2023-06-12', 'close_...             False  \n",
      "2   [{'close_approach_date': '2023-06-12', 'close_...             False  \n",
      "3   [{'close_approach_date': '2023-06-12', 'close_...             False  \n",
      "4   [{'close_approach_date': '2023-06-12', 'close_...             False  \n",
      "5   [{'close_approach_date': '2023-06-12', 'close_...             False  \n",
      "6   [{'close_approach_date': '2023-06-12', 'close_...             False  \n",
      "7   [{'close_approach_date': '2023-06-12', 'close_...             False  \n",
      "8   [{'close_approach_date': '2023-06-12', 'close_...             False  \n",
      "9   [{'close_approach_date': '2023-06-12', 'close_...             False  \n",
      "10  [{'close_approach_date': '2023-06-12', 'close_...             False  \n",
      "11  [{'close_approach_date': '2023-06-12', 'close_...             False  \n",
      "12  [{'close_approach_date': '2023-06-12', 'close_...             False  \n",
      "13  [{'close_approach_date': '2023-06-12', 'close_...             False  \n"
     ]
    }
   ],
   "source": [
    "# Lets first pass our data into a data frame \n",
    "df = pd.DataFrame(asteroids)\n",
    "\n",
    "# Now earlier we saw there were 14 total asteroids in our data, and 1 was potentially hazardous\n",
    "# So if we select just the non-potentitally hazardous asteroids, we should have 13\n",
    "non_hazardous_asteroids = df[df['is_potentially_hazardous_asteroid'] == False]\n",
    "print(non_hazardous_asteroids)"
   ]
  },
  {
   "cell_type": "markdown",
   "id": "5e6c9ae2",
   "metadata": {},
   "source": [
    "# Select and print the second and third columns of your data frame"
   ]
  },
  {
   "cell_type": "code",
   "execution_count": 7,
   "id": "456d73ee",
   "metadata": {},
   "outputs": [
    {
     "name": "stdout",
     "output_type": "stream",
     "text": [
      "          id neo_reference_id\n",
      "0    2488453          2488453\n",
      "1    2513125          2513125\n",
      "2    2523661          2523661\n",
      "3    3749071          3749071\n",
      "4    3781045          3781045\n",
      "5    3829424          3829424\n",
      "6    3836177          3836177\n",
      "7   54213628         54213628\n",
      "8   54317887         54317887\n",
      "9   54341484         54341484\n",
      "10   2620102          2620102\n",
      "11  54354510         54354510\n",
      "12  54358246         54358246\n",
      "13  54365454         54365454\n"
     ]
    }
   ],
   "source": [
    "# We can use the iloc indexer to select specific columns from our data frame\n",
    "second_and_third = df.iloc[:, 1:3]\n",
    "print(second_and_third)"
   ]
  },
  {
   "cell_type": "markdown",
   "id": "70ba9f51",
   "metadata": {},
   "source": [
    "# Select and print the first 4 rows of you data frame"
   ]
  },
  {
   "cell_type": "code",
   "execution_count": 8,
   "id": "a2a26d8a",
   "metadata": {},
   "outputs": [
    {
     "name": "stdout",
     "output_type": "stream",
     "text": [
      "                                               links       id  \\\n",
      "0  {'self': 'http://api.nasa.gov/neo/rest/v1/neo/...  2488453   \n",
      "1  {'self': 'http://api.nasa.gov/neo/rest/v1/neo/...  2513125   \n",
      "2  {'self': 'http://api.nasa.gov/neo/rest/v1/neo/...  2523661   \n",
      "3  {'self': 'http://api.nasa.gov/neo/rest/v1/neo/...  3749071   \n",
      "\n",
      "  neo_reference_id                name  \\\n",
      "0          2488453    488453 (1994 XD)   \n",
      "1          2513125  513125 (1997 GC32)   \n",
      "2          2523661  523661 (2012 LF11)   \n",
      "3          3749071          (2016 GY2)   \n",
      "\n",
      "                                    nasa_jpl_url  absolute_magnitude_h  \\\n",
      "0  http://ssd.jpl.nasa.gov/sbdb.cgi?sstr=2488453                 19.28   \n",
      "1  http://ssd.jpl.nasa.gov/sbdb.cgi?sstr=2513125                 18.35   \n",
      "2  http://ssd.jpl.nasa.gov/sbdb.cgi?sstr=2523661                 20.79   \n",
      "3  http://ssd.jpl.nasa.gov/sbdb.cgi?sstr=3749071                 26.10   \n",
      "\n",
      "                                  estimated_diameter  \\\n",
      "0  {'kilometers': {'estimated_diameter_min': 0.37...   \n",
      "1  {'kilometers': {'estimated_diameter_min': 0.56...   \n",
      "2  {'kilometers': {'estimated_diameter_min': 0.18...   \n",
      "3  {'kilometers': {'estimated_diameter_min': 0.01...   \n",
      "\n",
      "   is_potentially_hazardous_asteroid  \\\n",
      "0                               True   \n",
      "1                              False   \n",
      "2                              False   \n",
      "3                              False   \n",
      "\n",
      "                                 close_approach_data  is_sentry_object  \n",
      "0  [{'close_approach_date': '2023-06-12', 'close_...             False  \n",
      "1  [{'close_approach_date': '2023-06-12', 'close_...             False  \n",
      "2  [{'close_approach_date': '2023-06-12', 'close_...             False  \n",
      "3  [{'close_approach_date': '2023-06-12', 'close_...             False  \n"
     ]
    }
   ],
   "source": [
    "# Here we can use iloc again\n",
    "first_four_rows = df.iloc[0:4]\n",
    "print(first_four_rows)"
   ]
  },
  {
   "cell_type": "code",
   "execution_count": null,
   "id": "7d7811e9",
   "metadata": {},
   "outputs": [],
   "source": []
  }
 ],
 "metadata": {
  "kernelspec": {
   "display_name": "Python 3 (ipykernel)",
   "language": "python",
   "name": "python3"
  },
  "language_info": {
   "codemirror_mode": {
    "name": "ipython",
    "version": 3
   },
   "file_extension": ".py",
   "mimetype": "text/x-python",
   "name": "python",
   "nbconvert_exporter": "python",
   "pygments_lexer": "ipython3",
   "version": "3.9.13"
  }
 },
 "nbformat": 4,
 "nbformat_minor": 5
}
