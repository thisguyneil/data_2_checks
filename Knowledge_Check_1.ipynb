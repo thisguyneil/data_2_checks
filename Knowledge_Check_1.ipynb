{
 "cells": [
  {
   "cell_type": "code",
   "execution_count": null,
   "id": "65a3d09c",
   "metadata": {},
   "outputs": [],
   "source": [
    "# Here we will import our require packages\n",
    "import pandas as pd\n",
    "import requests \n",
    "import json\n"
   ]
  },
  {
   "cell_type": "markdown",
   "id": "ad16ca88",
   "metadata": {},
   "source": [
    "# **Pull in data from an API**\n",
    "\n",
    "## I will to use the NASA NeoW API for asteroids that were near Earth on a specific date\n",
    "\n",
    "### The description for this API is \"NeoWs (Near Earth Object Web Service) is a RESTful web service for near earth Asteroid information. With NeoWs a user can: search for Asteroids based on their closest approach date to Earth, lookup a specific Asteroid with its NASA JPL small body id, as well as browse the overall data-set.\" \n",
    "### More information for this API can be located at https://api.nasa.gov/"
   ]
  },
  {
   "cell_type": "code",
   "execution_count": null,
   "id": "bdef85b6",
   "metadata": {},
   "outputs": [],
   "source": [
    "# Here I will create a variable for the URL to the API\n",
    "url = \"https://api.nasa.gov/neo/rest/v1/feed\"\n",
    "\n",
    "# Here I input my parameters for the dates I want the asteroid info from\n",
    "parameters = {\n",
    "    \"start_date\": \"2023-06-12\",\n",
    "    \"end_date\": \"2023-06-12\",\n",
    "    \"api_key\": \"AuNs2AIkSaYsgVnLG7Xmzim3xeYSMflp8DesCe17\"\n",
    "}\n",
    "\n",
    "# Here is our actual API request using the Requests library and we will store it in the response variable. \n",
    "response = requests.get(url, params=parameters)\n",
    "\n",
    "# Here we will parse our data and turn it into a python dictionary\n",
    "data = response.json()\n",
    "asteroids = data[\"near_earth_objects\"][\"2023-06-12\"]\n",
    "\n",
    "# Let's see if it all was loaded in correctly\n",
    "print(asteroids)\n",
    "\n"
   ]
  },
  {
   "cell_type": "markdown",
   "id": "a9980b8d",
   "metadata": {},
   "source": [
    "# Find and print two descriptive statistics about your data"
   ]
  },
  {
   "cell_type": "code",
   "execution_count": null,
   "id": "c8495777",
   "metadata": {},
   "outputs": [],
   "source": [
    "# We can use the len() function to see how many asteroids are in our json\n",
    "print(\"Total number of asteroids:\", len(asteroids))"
   ]
  },
  {
   "cell_type": "code",
   "execution_count": null,
   "id": "fa7a10c0",
   "metadata": {},
   "outputs": [],
   "source": [
    "# In our data, there is a very interesting section where each asteroid is classified as 'Potentially Hazardous'\n",
    "# We can find this by creating an expression that generates a (1) for every asteroid that's considered 'Potentially Hazardous'\n",
    "# We then use the sum to add up all the asteroids the expression found\n",
    "potentially_hazardous_count = sum(1 for asteroid in asteroids if asteroid[\"is_potentially_hazardous_asteroid\"])\n",
    "print(\"Number of potentially hazardous asteroids:\", potentially_hazardous_count)"
   ]
  },
  {
   "cell_type": "markdown",
   "id": "cacbaacc",
   "metadata": {},
   "source": [
    "# Write a query in Pandas to select a particular set of your data"
   ]
  },
  {
   "cell_type": "code",
   "execution_count": null,
   "id": "8d1108a8",
   "metadata": {},
   "outputs": [],
   "source": [
    "# Lets first pass our data into a data frame \n",
    "df = pd.DataFrame(asteroids)\n",
    "\n",
    "# Now earlier we saw there were 14 total asteroids in our data, and 1 was potentially hazardous\n",
    "# So if we select just the non-potentitally hazardous asteroids, we should have 13\n",
    "non_hazardous_asteroids = df[df['is_potentially_hazardous_asteroid'] == False]\n",
    "print(non_hazardous_asteroids)"
   ]
  },
  {
   "cell_type": "markdown",
   "id": "5e6c9ae2",
   "metadata": {},
   "source": [
    "# Select and print the second and third columns of your data frame"
   ]
  },
  {
   "cell_type": "code",
   "execution_count": null,
   "id": "456d73ee",
   "metadata": {},
   "outputs": [],
   "source": [
    "# We can use the iloc indexer to select specific columns from our data frame\n",
    "second_and_third = df.iloc[:, 1:3]\n",
    "print(second_and_third)"
   ]
  },
  {
   "cell_type": "markdown",
   "id": "70ba9f51",
   "metadata": {},
   "source": [
    "# Select and print the first 4 rows of you data frame"
   ]
  },
  {
   "cell_type": "code",
   "execution_count": null,
   "id": "a2a26d8a",
   "metadata": {},
   "outputs": [],
   "source": [
    "# Here we can use iloc again\n",
    "first_four_rows = df.iloc[0:4]\n",
    "print(first_four_rows)"
   ]
  },
  {
   "cell_type": "code",
   "execution_count": null,
   "id": "7d7811e9",
   "metadata": {},
   "outputs": [],
   "source": []
  }
 ],
 "metadata": {
  "kernelspec": {
   "display_name": "Python 3 (ipykernel)",
   "language": "python",
   "name": "python3"
  },
  "language_info": {
   "codemirror_mode": {
    "name": "ipython",
    "version": 3
   },
   "file_extension": ".py",
   "mimetype": "text/x-python",
   "name": "python",
   "nbconvert_exporter": "python",
   "pygments_lexer": "ipython3",
   "version": "3.9.13"
  }
 },
 "nbformat": 4,
 "nbformat_minor": 5
}
