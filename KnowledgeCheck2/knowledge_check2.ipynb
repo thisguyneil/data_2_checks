{
 "cells": [
  {
   "cell_type": "markdown",
   "id": "d04479e3",
   "metadata": {},
   "source": [
    "# Find and access a data set in any way you want. You can use an API, a CSV, anything.\n",
    "# Fix TWO issues with the data set using techniques you've learned in class. \n"
   ]
  },
  {
   "cell_type": "code",
   "execution_count": null,
   "id": "a1d7f100",
   "metadata": {},
   "outputs": [],
   "source": [
    "import pandas as pd"
   ]
  },
  {
   "cell_type": "code",
   "execution_count": 13,
   "id": "1f53d6a9",
   "metadata": {},
   "outputs": [
    {
     "data": {
      "text/html": [
       "<div>\n",
       "<style scoped>\n",
       "    .dataframe tbody tr th:only-of-type {\n",
       "        vertical-align: middle;\n",
       "    }\n",
       "\n",
       "    .dataframe tbody tr th {\n",
       "        vertical-align: top;\n",
       "    }\n",
       "\n",
       "    .dataframe thead th {\n",
       "        text-align: right;\n",
       "    }\n",
       "</style>\n",
       "<table border=\"1\" class=\"dataframe\">\n",
       "  <thead>\n",
       "    <tr style=\"text-align: right;\">\n",
       "      <th></th>\n",
       "      <th>Timestamp</th>\n",
       "      <th>Have you read the informed consent linked above?</th>\n",
       "      <th>Are you at least 18 years old?</th>\n",
       "      <th>What is yore biological sex?</th>\n",
       "      <th>What is your colege major?</th>\n",
       "      <th>What grade in colege are you?</th>\n",
       "      <th>Have u or has anyone you know ever contracted Covid-19?</th>\n",
       "      <th>How important is taking proper precautions to prevent exposure to Covid-19 to you?</th>\n",
       "      <th>How important is getting vaccinated against Covid-19 to you?</th>\n",
       "      <th>How important is wearing masks to help slow the spread of transmission of Covid-19 to you?</th>\n",
       "      <th>How important is social distancing to help slow the spread of Covid-19 to you?</th>\n",
       "      <th>Have you received any vaccinations to help prevent Covid-19?</th>\n",
       "      <th>If no to the above question, do you plan on getting a vaccination to help prevent Covid-19?</th>\n",
       "      <th>How important will Covid-19 be in your selected field of study once you graduate?</th>\n",
       "      <th>My college has taken proper steps in preventing the spread of Covid-19</th>\n",
       "      <th>My college classes have updated their curriculum in response to Covid-19</th>\n",
       "    </tr>\n",
       "  </thead>\n",
       "  <tbody>\n",
       "    <tr>\n",
       "      <th>0</th>\n",
       "      <td>2021-11-09 10:17:45</td>\n",
       "      <td>Yes</td>\n",
       "      <td>Yes</td>\n",
       "      <td>Female</td>\n",
       "      <td>Psychology</td>\n",
       "      <td>Graduate Student</td>\n",
       "      <td>Yes</td>\n",
       "      <td>Very important</td>\n",
       "      <td>Extremely important</td>\n",
       "      <td>Very important</td>\n",
       "      <td>Very important</td>\n",
       "      <td>Yes</td>\n",
       "      <td>NaN</td>\n",
       "      <td>Somewhat important</td>\n",
       "      <td>True</td>\n",
       "      <td>False</td>\n",
       "    </tr>\n",
       "    <tr>\n",
       "      <th>1</th>\n",
       "      <td>2021-11-11 10:08:25</td>\n",
       "      <td>Yes</td>\n",
       "      <td>Yes</td>\n",
       "      <td>Female</td>\n",
       "      <td>Digital Marketing</td>\n",
       "      <td>Graduate Student</td>\n",
       "      <td>Yes</td>\n",
       "      <td>Extremely important</td>\n",
       "      <td>Extremely important</td>\n",
       "      <td>Extremely important</td>\n",
       "      <td>Somewhat important</td>\n",
       "      <td>Yes</td>\n",
       "      <td>NaN</td>\n",
       "      <td>Extremely important</td>\n",
       "      <td>True</td>\n",
       "      <td>True</td>\n",
       "    </tr>\n",
       "    <tr>\n",
       "      <th>2</th>\n",
       "      <td>2021-11-11 10:08:42</td>\n",
       "      <td>Yes</td>\n",
       "      <td>Yes</td>\n",
       "      <td>Male</td>\n",
       "      <td>Psychology</td>\n",
       "      <td>Graduate Student</td>\n",
       "      <td>No</td>\n",
       "      <td>Very important</td>\n",
       "      <td>Not at all important</td>\n",
       "      <td>Not at all important</td>\n",
       "      <td>Slightly important</td>\n",
       "      <td>No</td>\n",
       "      <td>No</td>\n",
       "      <td>Slightly important</td>\n",
       "      <td>True</td>\n",
       "      <td>True</td>\n",
       "    </tr>\n",
       "    <tr>\n",
       "      <th>3</th>\n",
       "      <td>2021-11-11 10:08:46</td>\n",
       "      <td>Yes</td>\n",
       "      <td>Yes</td>\n",
       "      <td>Female</td>\n",
       "      <td>Education</td>\n",
       "      <td>Senior</td>\n",
       "      <td>Yes</td>\n",
       "      <td>Slightly important</td>\n",
       "      <td>Not at all important</td>\n",
       "      <td>Not at all important</td>\n",
       "      <td>Slightly important</td>\n",
       "      <td>No</td>\n",
       "      <td>No</td>\n",
       "      <td>Somewhat important</td>\n",
       "      <td>True</td>\n",
       "      <td>False</td>\n",
       "    </tr>\n",
       "    <tr>\n",
       "      <th>4</th>\n",
       "      <td>2021-11-11 10:09:02</td>\n",
       "      <td>Yes</td>\n",
       "      <td>Yes</td>\n",
       "      <td>Female</td>\n",
       "      <td>Business Administration</td>\n",
       "      <td>Graduate Student</td>\n",
       "      <td>No</td>\n",
       "      <td>Extremely important</td>\n",
       "      <td>Extremely important</td>\n",
       "      <td>Extremely important</td>\n",
       "      <td>Extremely important</td>\n",
       "      <td>Yes</td>\n",
       "      <td>NaN</td>\n",
       "      <td>Extremely important</td>\n",
       "      <td>True</td>\n",
       "      <td>True</td>\n",
       "    </tr>\n",
       "  </tbody>\n",
       "</table>\n",
       "</div>"
      ],
      "text/plain": [
       "            Timestamp Have you read the informed consent linked above?   \\\n",
       "0 2021-11-09 10:17:45                                               Yes   \n",
       "1 2021-11-11 10:08:25                                               Yes   \n",
       "2 2021-11-11 10:08:42                                               Yes   \n",
       "3 2021-11-11 10:08:46                                               Yes   \n",
       "4 2021-11-11 10:09:02                                               Yes   \n",
       "\n",
       "  Are you at least 18 years old? What is yore biological sex?  \\\n",
       "0                            Yes                       Female   \n",
       "1                            Yes                       Female   \n",
       "2                            Yes                         Male   \n",
       "3                            Yes                       Female   \n",
       "4                            Yes                       Female   \n",
       "\n",
       "  What is your colege major? What grade in colege are you?  \\\n",
       "0                Psychology               Graduate Student   \n",
       "1          Digital Marketing              Graduate Student   \n",
       "2                 Psychology              Graduate Student   \n",
       "3                 Education                         Senior   \n",
       "4    Business Administration              Graduate Student   \n",
       "\n",
       "  Have u or has anyone you know ever contracted Covid-19?  \\\n",
       "0                                                Yes        \n",
       "1                                                Yes        \n",
       "2                                                 No        \n",
       "3                                                Yes        \n",
       "4                                                 No        \n",
       "\n",
       "  How important is taking proper precautions to prevent exposure to Covid-19 to you?  \\\n",
       "0                                     Very important                                   \n",
       "1                                Extremely important                                   \n",
       "2                                     Very important                                   \n",
       "3                                 Slightly important                                   \n",
       "4                                Extremely important                                   \n",
       "\n",
       "  How important is getting vaccinated against Covid-19 to you?  \\\n",
       "0                                Extremely important             \n",
       "1                                Extremely important             \n",
       "2                               Not at all important             \n",
       "3                               Not at all important             \n",
       "4                                Extremely important             \n",
       "\n",
       "  How important is wearing masks to help slow the spread of transmission of Covid-19 to you?  \\\n",
       "0                                     Very important                                           \n",
       "1                                Extremely important                                           \n",
       "2                               Not at all important                                           \n",
       "3                               Not at all important                                           \n",
       "4                                Extremely important                                           \n",
       "\n",
       "  How important is social distancing to help slow the spread of Covid-19 to you?  \\\n",
       "0                                     Very important                               \n",
       "1                                 Somewhat important                               \n",
       "2                                 Slightly important                               \n",
       "3                                 Slightly important                               \n",
       "4                                Extremely important                               \n",
       "\n",
       "  Have you received any vaccinations to help prevent Covid-19?  \\\n",
       "0                                                Yes             \n",
       "1                                                Yes             \n",
       "2                                                 No             \n",
       "3                                                 No             \n",
       "4                                                Yes             \n",
       "\n",
       "  If no to the above question, do you plan on getting a vaccination to help prevent Covid-19?  \\\n",
       "0                                                NaN                                            \n",
       "1                                                NaN                                            \n",
       "2                                                 No                                            \n",
       "3                                                 No                                            \n",
       "4                                                NaN                                            \n",
       "\n",
       "  How important will Covid-19 be in your selected field of study once you graduate?  \\\n",
       "0                                 Somewhat important                                  \n",
       "1                                Extremely important                                  \n",
       "2                                 Slightly important                                  \n",
       "3                                 Somewhat important                                  \n",
       "4                                Extremely important                                  \n",
       "\n",
       "   My college has taken proper steps in preventing the spread of Covid-19  \\\n",
       "0                                               True                        \n",
       "1                                               True                        \n",
       "2                                               True                        \n",
       "3                                               True                        \n",
       "4                                               True                        \n",
       "\n",
       "   My college classes have updated their curriculum in response to Covid-19  \n",
       "0                                              False                         \n",
       "1                                               True                         \n",
       "2                                               True                         \n",
       "3                                              False                         \n",
       "4                                               True                         "
      ]
     },
     "execution_count": 13,
     "metadata": {},
     "output_type": "execute_result"
    }
   ],
   "source": [
    "# Let's read our data in\n",
    "df = pd.read_excel('data/Raw_Study_Responses.xlsx')\n",
    "\n",
    "# Now let's check our data was read\n",
    "df.head()"
   ]
  },
  {
   "cell_type": "code",
   "execution_count": 14,
   "id": "374d3e24",
   "metadata": {},
   "outputs": [
    {
     "data": {
      "text/plain": [
       "Index(['Timestamp', 'Have you read the informed consent linked above? ',\n",
       "       'Are you at least 18 years old?', 'what is your biological sex?',\n",
       "       'what is your college major?', 'what grade in college are you?',\n",
       "       'have you or has anyone you know ever contracted Covid-19?',\n",
       "       'How important is taking proper precautions to prevent exposure to Covid-19 to you?',\n",
       "       'How important is getting vaccinated against Covid-19 to you?',\n",
       "       'How important is wearing masks to help slow the spread of transmission of Covid-19 to you?',\n",
       "       'How important is social distancing to help slow the spread of Covid-19 to you?',\n",
       "       'Have you received any vaccinations to help prevent Covid-19?',\n",
       "       'If no to the above question, do you plan on getting a vaccination to help prevent Covid-19?',\n",
       "       'How important will Covid-19 be in your selected field of study once you graduate?',\n",
       "       'My college has taken proper steps in preventing the spread of Covid-19',\n",
       "       'My college classes have updated their curriculum in response to Covid-19'],\n",
       "      dtype='object')"
      ]
     },
     "execution_count": 14,
     "metadata": {},
     "output_type": "execute_result"
    }
   ],
   "source": [
    "# We have some errors in our data, let's clean it up\n",
    "# Let's check just the columns\n",
    "\n",
    "df.columns\n",
    "\n",
    "# First let's fix the spelling errors in our column names\n",
    "\n",
    "corrected_columns = {\n",
    "    'What is yore biological sex?':'what is your biological sex?',\n",
    "    'What is your colege major?':'what is your college major?',\n",
    "    'What grade in colege are you?':'what grade in college are you?',\n",
    "    'Have u or has anyone you know ever contracted Covid-19?':'have you or has anyone you know ever contracted Covid-19?',\n",
    "    \n",
    "}\n",
    "\n",
    "df.rename(columns=corrected_columns,inplace=True)\n",
    "df.columns"
   ]
  },
  {
   "cell_type": "code",
   "execution_count": 17,
   "id": "33fde4cf",
   "metadata": {},
   "outputs": [
    {
     "name": "stdout",
     "output_type": "stream",
     "text": [
      "2\n"
     ]
    }
   ],
   "source": [
    "# Now that the columns are spelled correctly, let's drop some unneeded rows\n",
    "# In the study, we cannot have anyone under 18 taking the survey, so let's drop those rows that are under 18\n",
    "\n",
    "# Let's see how many Nos we have to begin with.\n",
    "no_count = (df['Are you at least 18 years old?'] == 'No').sum()\n",
    "print(no_count)"
   ]
  },
  {
   "cell_type": "code",
   "execution_count": 20,
   "id": "36a0d705",
   "metadata": {},
   "outputs": [
    {
     "name": "stdout",
     "output_type": "stream",
     "text": [
      "Updated 'No' count: 0\n"
     ]
    }
   ],
   "source": [
    "# Since we have 2 rows that are under 18, let's drop those rows\n",
    "df = df[df['Are you at least 18 years old?'] == 'Yes']\n",
    "\n",
    "# Now let's update 'no_count' and see our updated 'No' count\n",
    "no_count = (df['Are you at least 18 years old?'] == 'No').sum()\n",
    "print(\"Updated 'No' count:\", no_count)"
   ]
  },
  {
   "cell_type": "code",
   "execution_count": 21,
   "id": "cdc5548d",
   "metadata": {},
   "outputs": [
    {
     "name": "stdout",
     "output_type": "stream",
     "text": [
      "1\n"
     ]
    }
   ],
   "source": [
    "# Last we will drop rows with blank values in another important column\n",
    "# We will first see how many blank rows we have for the column in question\n",
    "\n",
    "blank_count = df['what is your college major?'].isnull().sum()\n",
    "print(blank_count)"
   ]
  },
  {
   "cell_type": "code",
   "execution_count": 23,
   "id": "786ad291",
   "metadata": {},
   "outputs": [
    {
     "name": "stdout",
     "output_type": "stream",
     "text": [
      "Updated 'Blank' count: 0\n"
     ]
    }
   ],
   "source": [
    "# We can use dropna to drop the rows that are blank\n",
    "df.dropna(subset=['what is your college major?'], inplace=True)\n",
    "\n",
    "# Then update blank_count and display it\n",
    "blank_count = df['what is your college major?'].isnull().sum()\n",
    "print(\"Updated 'Blank' count:\", blank_count)"
   ]
  },
  {
   "cell_type": "code",
   "execution_count": null,
   "id": "0c0f4be2",
   "metadata": {},
   "outputs": [],
   "source": []
  }
 ],
 "metadata": {
  "kernelspec": {
   "display_name": "Python 3 (ipykernel)",
   "language": "python",
   "name": "python3"
  },
  "language_info": {
   "codemirror_mode": {
    "name": "ipython",
    "version": 3
   },
   "file_extension": ".py",
   "mimetype": "text/x-python",
   "name": "python",
   "nbconvert_exporter": "python",
   "pygments_lexer": "ipython3",
   "version": "3.9.13"
  }
 },
 "nbformat": 4,
 "nbformat_minor": 5
}
